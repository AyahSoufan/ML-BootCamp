{
 "cells": [
  {
   "cell_type": "code",
   "execution_count": 12,
   "metadata": {
    "collapsed": true
   },
   "outputs": [],
   "source": [
    "'''\n",
    "W: Total Weight\n",
    "n: number of items\n",
    "wt: array of item's weights\n",
    "val: array of item's values\n",
    "'''\n",
    "def knapSack(W , wt , val , n):\n",
    "    result = [[0 for y in range(W+1)] for y in range(n+1)] \n",
    "    for i in range (n+1):\n",
    "        for w in range (W+1):\n",
    "            if (W==0) or (n ==0):\n",
    "                result[i][w]= 0\n",
    "            elif wt[i-1] <= w: \n",
    "                result[i][w] = max(val[i-1] + result[i-1][w-wt[i-1]],  result[i-1][w]) \n",
    "            else: \n",
    "                result[i][w] = result[i-1][w] \n",
    "  \n",
    "    return result[n][W] "
   ]
  },
  {
   "cell_type": "code",
   "execution_count": 14,
   "metadata": {},
   "outputs": [
    {
     "name": "stdout",
     "output_type": "stream",
     "text": [
      "0\n"
     ]
    }
   ],
   "source": [
    "#Test case 1\n",
    "val = [1,2,3,] \n",
    "wt = [10,5,30] \n",
    "W = 0\n",
    "n = len(val) \n",
    "print(knapSack(W, wt, val, n)) "
   ]
  },
  {
   "cell_type": "code",
   "execution_count": 16,
   "metadata": {},
   "outputs": [
    {
     "name": "stdout",
     "output_type": "stream",
     "text": [
      "115\n"
     ]
    }
   ],
   "source": [
    "#Test Case 2\n",
    "val = [15,25,35,40] \n",
    "wt = [15,10,5,10] \n",
    "W = 25\n",
    "n = len(val) \n",
    "print(knapSack(W, wt, val, n)) "
   ]
  }
 ],
 "metadata": {
  "kernelspec": {
   "display_name": "Python 3",
   "language": "python",
   "name": "python3"
  },
  "language_info": {
   "codemirror_mode": {
    "name": "ipython",
    "version": 3
   },
   "file_extension": ".py",
   "mimetype": "text/x-python",
   "name": "python",
   "nbconvert_exporter": "python",
   "pygments_lexer": "ipython3",
   "version": "3.6.3"
  }
 },
 "nbformat": 4,
 "nbformat_minor": 2
}
